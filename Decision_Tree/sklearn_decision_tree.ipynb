{
 "cells": [
  {
   "cell_type": "code",
   "execution_count": null,
   "metadata": {},
   "outputs": [],
   "source": [
    "import numpy as np\n",
    "import pandas as pd\n",
    "import pydotplus\n",
    "from sklearn.model_selection import KFold\n",
    "from sklearn.tree import DecisionTreeClassifier\n",
    "from sklearn.tree import export_graphviz\n",
    "from IPython.display import Image"
   ]
  },
  {
   "cell_type": "code",
   "execution_count": null,
   "metadata": {},
   "outputs": [],
   "source": [
    "# read data and feature name from excel file\n",
    "def read_data(path = None):\n",
    "    df = pd.read_excel(path)\n",
    "\n",
    "    # delete column 'nameid'\n",
    "    df = df.drop(['nameid'], axis = 1)\n",
    "\n",
    "    # discretize feature 'revenue'\n",
    "    threshold = [0,10000,20000,30000,40000,50000]\n",
    "    df['revenue'] = pd.cut(df['revenue'], threshold, labels = False)\n",
    "\n",
    "    # fetch dataset and names of each feature\n",
    "    dataset = df.values\n",
    "    features = df.columns.values\n",
    "\n",
    "    return dataset, features"
   ]
  },
  {
   "cell_type": "code",
   "execution_count": null,
   "metadata": {},
   "outputs": [],
   "source": [
    "# read dataset for training\n",
    "train_dataset, train_features = read_data(r\"train.xls\")\n",
    "train_data = pd.DataFrame(train_dataset, columns = train_features)\n",
    "\n",
    "print(train_data)"
   ]
  },
  {
   "cell_type": "code",
   "execution_count": null,
   "metadata": {},
   "outputs": [],
   "source": [
    "# read dataset for test\n",
    "test_dataset, test_features = read_data(r\"test.xls\")\n",
    "test_data = pd.DataFrame(test_dataset, columns = test_features)\n",
    "\n",
    "print(test_data)"
   ]
  },
  {
   "cell_type": "code",
   "execution_count": null,
   "metadata": {},
   "outputs": [],
   "source": [
    "# separate features and labels\n",
    "X_train = np.array(train_data.iloc[:, :-1])\n",
    "Y_train = np.array(train_data.iloc[:, -1])\n",
    "\n",
    "X_test = np.array(test_data.iloc[:, :-1])\n",
    "Y_test = np.array(test_data.iloc[:, -1])"
   ]
  },
  {
   "cell_type": "code",
   "execution_count": null,
   "metadata": {},
   "outputs": [],
   "source": [
    "best_F1_score = 0       # use F1 score to evaluate the model\n",
    "best_depth = 0          # depth of dtree where we got the best performance\n",
    "\n",
    "# test max depth of the decision tree from 2 to 10\n",
    "for depth in range(2, 11):\n",
    "    dt_model = DecisionTreeClassifier(max_depth = depth)\n",
    "    \n",
    "    # 8-fold cross validation: divide train set into train and valid (7:1)\n",
    "    F1_scores = []\n",
    "    kf = KFold(n_splits = 8, shuffle = False)\n",
    "    for train_index, valid_index in kf.split(X_train):\n",
    "        KX_train, KX_valid = X_train[train_index], X_train[valid_index]\n",
    "        KY_train, KY_valid = Y_train[train_index], Y_train[valid_index]\n",
    "\n",
    "        # train the model\n",
    "        dt_model.fit(KX_train, KY_train)\n",
    "\n",
    "        # result of the prediction \n",
    "        result = dt_model.predict(KX_valid)\n",
    "\n",
    "        # find indicators that we need\n",
    "        TP, FP, FN, TN = 0, 0, 0, 0\n",
    "        for i in range(len(KX_valid)):\n",
    "            if KY_valid[i] == 1:\n",
    "                if result[i] == 1:\n",
    "                    TP += 1\n",
    "                else:\n",
    "                    FN += 1\n",
    "            else:\n",
    "                if result[i] == 1:\n",
    "                    FP += 1\n",
    "                else:\n",
    "                    TN += 1\n",
    "\n",
    "        # calculate the F1 score and store it\n",
    "        F1_score = 2 * TP / (2 * TP + FP + FN)\n",
    "        F1_scores.append(F1_score)\n",
    "    \n",
    "    # use the mean of F1 scores as the final F1 score of this depth parameter\n",
    "    curr_F1_score = np.mean(F1_scores)\n",
    "\n",
    "    print(\"depth:\", depth, \" F1:\", curr_F1_score)\n",
    "    \n",
    "    # if this depth turns out to be a better parameter, update best depth\n",
    "    if curr_F1_score > best_F1_score:\n",
    "        best_depth = depth\n",
    "        best_F1_score = curr_F1_score"
   ]
  },
  {
   "cell_type": "code",
   "execution_count": null,
   "metadata": {},
   "outputs": [],
   "source": [
    "print(\"best depth:\", best_depth)\n",
    "\n",
    "# use the best parameter to train the model\n",
    "dt_model = DecisionTreeClassifier(max_depth = best_depth)\n",
    "dt_model.fit(X_train, Y_train)\n",
    "\n",
    "# use test set to test the performance of the model\n",
    "result = dt_model.predict(X_test)\n",
    "\n",
    "# find indicators that we need\n",
    "TP, FP, FN, TN = 0, 0, 0, 0\n",
    "for i in range(len(X_test)):\n",
    "    if Y_test[i] == 1:\n",
    "        if result[i] == 1:\n",
    "            TP += 1\n",
    "        else:\n",
    "            FN += 1\n",
    "    else:\n",
    "        if result[i] == 1:\n",
    "            FP += 1\n",
    "        else:\n",
    "            TN += 1\n",
    "\n",
    "# calculate Precision Recall and F1-score\n",
    "P = TP / (TP + FP)\n",
    "R = TP / (TP + FN)\n",
    "F1 = 2 * TP / (2 * TP + FP + FN)\n",
    "\n",
    "print(\"Precision: \", P)\n",
    "print(\"Recall: \", R)\n",
    "print(\"F1-score: \", F1)"
   ]
  },
  {
   "cell_type": "code",
   "execution_count": null,
   "metadata": {},
   "outputs": [],
   "source": [
    "# paint the decision tree we've got\n",
    "features = ['profession', 'education','house_loan','car_loan', 'married', 'child', 'revenue']\n",
    "labels = ['no loan','loan']\n",
    "\n",
    "dot_data = export_graphviz(\n",
    "            dt_model,\n",
    "            out_file = None,\n",
    "            feature_names = features,\n",
    "            class_names = labels,\n",
    "            rounded = True,\n",
    "            filled = True,\n",
    "            special_characters = True)\n",
    "\n",
    "# in case there is shade on the image\n",
    "dot_data = dot_data.replace('\\n', '')\n",
    "graph = pydotplus.graph_from_dot_data(dot_data)\n",
    "Image(graph.create_png())"
   ]
  }
 ],
 "metadata": {
  "kernelspec": {
   "display_name": "base",
   "language": "python",
   "name": "python3"
  },
  "language_info": {
   "codemirror_mode": {
    "name": "ipython",
    "version": 3
   },
   "file_extension": ".py",
   "mimetype": "text/x-python",
   "name": "python",
   "nbconvert_exporter": "python",
   "pygments_lexer": "ipython3",
   "version": "3.11.7"
  }
 },
 "nbformat": 4,
 "nbformat_minor": 2
}
